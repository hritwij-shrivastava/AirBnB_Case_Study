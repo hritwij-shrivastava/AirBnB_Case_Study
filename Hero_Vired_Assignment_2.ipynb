{
  "nbformat": 4,
  "nbformat_minor": 0,
  "metadata": {
    "colab": {
      "name": "Hero Vired Assignment-2.ipynb",
      "provenance": []
    },
    "kernelspec": {
      "name": "python3",
      "display_name": "Python 3"
    },
    "language_info": {
      "name": "python"
    }
  },
  "cells": [
    {
      "cell_type": "markdown",
      "source": [
        "#Importing Data"
      ],
      "metadata": {
        "id": "4chIRSbyQk70"
      }
    },
    {
      "cell_type": "code",
      "execution_count": 2,
      "metadata": {
        "id": "PzkAGVZ2JE8c"
      },
      "outputs": [],
      "source": [
        "import csv\n",
        "import pandas as pd\n",
        "import numpy as np\n",
        "import sqlite3\n",
        "import seaborn as sns\n",
        "import matplotlib.pyplot as plt\n",
        "%matplotlib inline"
      ]
    },
    {
      "cell_type": "code",
      "source": [
        "conn = sqlite3.connect('/content/airbnb.db', isolation_level=None, detect_types=sqlite3.PARSE_COLNAMES)\n",
        "db_df_c = pd.read_sql_query(\"SELECT * FROM Calendar\", conn)\n",
        "db_df_l = pd.read_sql_query(\"SELECT * FROM Listings\", conn)\n",
        "db_df_h = pd.read_sql_query(\"SELECT * FROM Hosts\", conn)\n",
        "db_df_r = pd.read_sql_query(\"SELECT * FROM Reviews\", conn)\n",
        "\n",
        "db_df_c.to_csv('calendar.csv', index=False)\n",
        "db_df_l.to_csv('listings.csv', index=False)\n",
        "db_df_h.to_csv('hosts.csv', index=False)\n",
        "db_df_r.to_csv('reviews.csv', index=False)"
      ],
      "metadata": {
        "id": "mfdOEWyRQ3ob"
      },
      "execution_count": 3,
      "outputs": []
    },
    {
      "cell_type": "code",
      "source": [
        "df_c = pd.read_csv(\"/content/calendar.csv\")\n",
        "df_l = pd.read_csv(\"/content/listings.csv\")\n",
        "df_h = pd.read_csv(\"/content/hosts.csv\")\n",
        "df_r = pd.read_csv(\"/content/reviews.csv\")\n"
      ],
      "metadata": {
        "id": "MAwNnXYNRArI"
      },
      "execution_count": 4,
      "outputs": []
    },
    {
      "cell_type": "markdown",
      "source": [
        "#Data Understanding and feature creation"
      ],
      "metadata": {
        "id": "-RhxBAKcVsM5"
      }
    },
    {
      "cell_type": "markdown",
      "source": [
        "##1-For Calender Table"
      ],
      "metadata": {
        "id": "4BBgFiTpVwXa"
      }
    },
    {
      "cell_type": "code",
      "source": [
        "df_c.head()"
      ],
      "metadata": {
        "colab": {
          "base_uri": "https://localhost:8080/",
          "height": 206
        },
        "id": "Z5DESdd2SnPM",
        "outputId": "a44c9d74-cc5a-4844-9bdb-63db449c88d6"
      },
      "execution_count": 21,
      "outputs": [
        {
          "output_type": "execute_result",
          "data": {
            "text/plain": [
              "   calender_id  listing_id                        date  available  price  \\\n",
              "0            1    40334325  2022-08-03 00:00:00.000000          0   56.0   \n",
              "1            2    22742449  2022-11-13 00:00:00.000000          1   95.0   \n",
              "2            3    34621717  2022-04-17 00:00:00.000000          0   75.0   \n",
              "3            4    38281744  2022-01-31 00:00:00.000000          1  150.0   \n",
              "4            5    18835003  2022-05-21 00:00:00.000000          0  100.0   \n",
              "\n",
              "   adjusted_price  minimum_nights  maximum_nights  \n",
              "0            56.0               3               5  \n",
              "1            95.0               2              99  \n",
              "2            75.0               2            1125  \n",
              "3           150.0               1            1000  \n",
              "4           100.0               2            1125  "
            ],
            "text/html": [
              "\n",
              "  <div id=\"df-54617041-023b-464f-ac9d-5109d6232c74\">\n",
              "    <div class=\"colab-df-container\">\n",
              "      <div>\n",
              "<style scoped>\n",
              "    .dataframe tbody tr th:only-of-type {\n",
              "        vertical-align: middle;\n",
              "    }\n",
              "\n",
              "    .dataframe tbody tr th {\n",
              "        vertical-align: top;\n",
              "    }\n",
              "\n",
              "    .dataframe thead th {\n",
              "        text-align: right;\n",
              "    }\n",
              "</style>\n",
              "<table border=\"1\" class=\"dataframe\">\n",
              "  <thead>\n",
              "    <tr style=\"text-align: right;\">\n",
              "      <th></th>\n",
              "      <th>calender_id</th>\n",
              "      <th>listing_id</th>\n",
              "      <th>date</th>\n",
              "      <th>available</th>\n",
              "      <th>price</th>\n",
              "      <th>adjusted_price</th>\n",
              "      <th>minimum_nights</th>\n",
              "      <th>maximum_nights</th>\n",
              "    </tr>\n",
              "  </thead>\n",
              "  <tbody>\n",
              "    <tr>\n",
              "      <th>0</th>\n",
              "      <td>1</td>\n",
              "      <td>40334325</td>\n",
              "      <td>2022-08-03 00:00:00.000000</td>\n",
              "      <td>0</td>\n",
              "      <td>56.0</td>\n",
              "      <td>56.0</td>\n",
              "      <td>3</td>\n",
              "      <td>5</td>\n",
              "    </tr>\n",
              "    <tr>\n",
              "      <th>1</th>\n",
              "      <td>2</td>\n",
              "      <td>22742449</td>\n",
              "      <td>2022-11-13 00:00:00.000000</td>\n",
              "      <td>1</td>\n",
              "      <td>95.0</td>\n",
              "      <td>95.0</td>\n",
              "      <td>2</td>\n",
              "      <td>99</td>\n",
              "    </tr>\n",
              "    <tr>\n",
              "      <th>2</th>\n",
              "      <td>3</td>\n",
              "      <td>34621717</td>\n",
              "      <td>2022-04-17 00:00:00.000000</td>\n",
              "      <td>0</td>\n",
              "      <td>75.0</td>\n",
              "      <td>75.0</td>\n",
              "      <td>2</td>\n",
              "      <td>1125</td>\n",
              "    </tr>\n",
              "    <tr>\n",
              "      <th>3</th>\n",
              "      <td>4</td>\n",
              "      <td>38281744</td>\n",
              "      <td>2022-01-31 00:00:00.000000</td>\n",
              "      <td>1</td>\n",
              "      <td>150.0</td>\n",
              "      <td>150.0</td>\n",
              "      <td>1</td>\n",
              "      <td>1000</td>\n",
              "    </tr>\n",
              "    <tr>\n",
              "      <th>4</th>\n",
              "      <td>5</td>\n",
              "      <td>18835003</td>\n",
              "      <td>2022-05-21 00:00:00.000000</td>\n",
              "      <td>0</td>\n",
              "      <td>100.0</td>\n",
              "      <td>100.0</td>\n",
              "      <td>2</td>\n",
              "      <td>1125</td>\n",
              "    </tr>\n",
              "  </tbody>\n",
              "</table>\n",
              "</div>\n",
              "      <button class=\"colab-df-convert\" onclick=\"convertToInteractive('df-54617041-023b-464f-ac9d-5109d6232c74')\"\n",
              "              title=\"Convert this dataframe to an interactive table.\"\n",
              "              style=\"display:none;\">\n",
              "        \n",
              "  <svg xmlns=\"http://www.w3.org/2000/svg\" height=\"24px\"viewBox=\"0 0 24 24\"\n",
              "       width=\"24px\">\n",
              "    <path d=\"M0 0h24v24H0V0z\" fill=\"none\"/>\n",
              "    <path d=\"M18.56 5.44l.94 2.06.94-2.06 2.06-.94-2.06-.94-.94-2.06-.94 2.06-2.06.94zm-11 1L8.5 8.5l.94-2.06 2.06-.94-2.06-.94L8.5 2.5l-.94 2.06-2.06.94zm10 10l.94 2.06.94-2.06 2.06-.94-2.06-.94-.94-2.06-.94 2.06-2.06.94z\"/><path d=\"M17.41 7.96l-1.37-1.37c-.4-.4-.92-.59-1.43-.59-.52 0-1.04.2-1.43.59L10.3 9.45l-7.72 7.72c-.78.78-.78 2.05 0 2.83L4 21.41c.39.39.9.59 1.41.59.51 0 1.02-.2 1.41-.59l7.78-7.78 2.81-2.81c.8-.78.8-2.07 0-2.86zM5.41 20L4 18.59l7.72-7.72 1.47 1.35L5.41 20z\"/>\n",
              "  </svg>\n",
              "      </button>\n",
              "      \n",
              "  <style>\n",
              "    .colab-df-container {\n",
              "      display:flex;\n",
              "      flex-wrap:wrap;\n",
              "      gap: 12px;\n",
              "    }\n",
              "\n",
              "    .colab-df-convert {\n",
              "      background-color: #E8F0FE;\n",
              "      border: none;\n",
              "      border-radius: 50%;\n",
              "      cursor: pointer;\n",
              "      display: none;\n",
              "      fill: #1967D2;\n",
              "      height: 32px;\n",
              "      padding: 0 0 0 0;\n",
              "      width: 32px;\n",
              "    }\n",
              "\n",
              "    .colab-df-convert:hover {\n",
              "      background-color: #E2EBFA;\n",
              "      box-shadow: 0px 1px 2px rgba(60, 64, 67, 0.3), 0px 1px 3px 1px rgba(60, 64, 67, 0.15);\n",
              "      fill: #174EA6;\n",
              "    }\n",
              "\n",
              "    [theme=dark] .colab-df-convert {\n",
              "      background-color: #3B4455;\n",
              "      fill: #D2E3FC;\n",
              "    }\n",
              "\n",
              "    [theme=dark] .colab-df-convert:hover {\n",
              "      background-color: #434B5C;\n",
              "      box-shadow: 0px 1px 3px 1px rgba(0, 0, 0, 0.15);\n",
              "      filter: drop-shadow(0px 1px 2px rgba(0, 0, 0, 0.3));\n",
              "      fill: #FFFFFF;\n",
              "    }\n",
              "  </style>\n",
              "\n",
              "      <script>\n",
              "        const buttonEl =\n",
              "          document.querySelector('#df-54617041-023b-464f-ac9d-5109d6232c74 button.colab-df-convert');\n",
              "        buttonEl.style.display =\n",
              "          google.colab.kernel.accessAllowed ? 'block' : 'none';\n",
              "\n",
              "        async function convertToInteractive(key) {\n",
              "          const element = document.querySelector('#df-54617041-023b-464f-ac9d-5109d6232c74');\n",
              "          const dataTable =\n",
              "            await google.colab.kernel.invokeFunction('convertToInteractive',\n",
              "                                                     [key], {});\n",
              "          if (!dataTable) return;\n",
              "\n",
              "          const docLinkHtml = 'Like what you see? Visit the ' +\n",
              "            '<a target=\"_blank\" href=https://colab.research.google.com/notebooks/data_table.ipynb>data table notebook</a>'\n",
              "            + ' to learn more about interactive tables.';\n",
              "          element.innerHTML = '';\n",
              "          dataTable['output_type'] = 'display_data';\n",
              "          await google.colab.output.renderOutput(dataTable, element);\n",
              "          const docLink = document.createElement('div');\n",
              "          docLink.innerHTML = docLinkHtml;\n",
              "          element.appendChild(docLink);\n",
              "        }\n",
              "      </script>\n",
              "    </div>\n",
              "  </div>\n",
              "  "
            ]
          },
          "metadata": {},
          "execution_count": 21
        }
      ]
    },
    {
      "cell_type": "code",
      "source": [
        "df_c.info()"
      ],
      "metadata": {
        "colab": {
          "base_uri": "https://localhost:8080/"
        },
        "id": "Hqy39dgOWV88",
        "outputId": "9055fe48-feb4-42ec-f5a0-bdc02cefe051"
      },
      "execution_count": 25,
      "outputs": [
        {
          "output_type": "stream",
          "name": "stdout",
          "text": [
            "<class 'pandas.core.frame.DataFrame'>\n",
            "RangeIndex: 319192 entries, 0 to 319191\n",
            "Data columns (total 8 columns):\n",
            " #   Column          Non-Null Count   Dtype  \n",
            "---  ------          --------------   -----  \n",
            " 0   calender_id     319192 non-null  int64  \n",
            " 1   listing_id      319192 non-null  int64  \n",
            " 2   date            319192 non-null  object \n",
            " 3   available       319192 non-null  int64  \n",
            " 4   price           319117 non-null  float64\n",
            " 5   adjusted_price  319117 non-null  float64\n",
            " 6   minimum_nights  319192 non-null  int64  \n",
            " 7   maximum_nights  319192 non-null  int64  \n",
            "dtypes: float64(2), int64(5), object(1)\n",
            "memory usage: 19.5+ MB\n"
          ]
        }
      ]
    },
    {
      "cell_type": "code",
      "source": [
        "len(df_c.listing_id.unique())"
      ],
      "metadata": {
        "colab": {
          "base_uri": "https://localhost:8080/"
        },
        "id": "ZdAfVlApXN0A",
        "outputId": "ed22b5cc-f4ee-4a78-db05-52cdc4340e8e"
      },
      "execution_count": 37,
      "outputs": [
        {
          "output_type": "execute_result",
          "data": {
            "text/plain": [
              "1749"
            ]
          },
          "metadata": {},
          "execution_count": 37
        }
      ]
    },
    {
      "cell_type": "markdown",
      "source": [
        "##2-For Listings table"
      ],
      "metadata": {
        "id": "zNeD9EcpV4a8"
      }
    },
    {
      "cell_type": "code",
      "source": [
        "df_l.head()"
      ],
      "metadata": {
        "id": "54zyAAafUIz7"
      },
      "execution_count": null,
      "outputs": []
    },
    {
      "cell_type": "code",
      "source": [
        "df_l.info()"
      ],
      "metadata": {
        "colab": {
          "base_uri": "https://localhost:8080/"
        },
        "id": "9izPAXrOW50_",
        "outputId": "e3ee17f1-0fda-4607-9ef7-e7f3f28b42d1"
      },
      "execution_count": 27,
      "outputs": [
        {
          "output_type": "stream",
          "name": "stdout",
          "text": [
            "<class 'pandas.core.frame.DataFrame'>\n",
            "RangeIndex: 1749 entries, 0 to 1748\n",
            "Data columns (total 14 columns):\n",
            " #   Column          Non-Null Count  Dtype  \n",
            "---  ------          --------------  -----  \n",
            " 0   listing_id      1749 non-null   int64  \n",
            " 1   listing_url     1749 non-null   object \n",
            " 2   name            1749 non-null   object \n",
            " 3   description     1679 non-null   object \n",
            " 4   latitude        1749 non-null   float64\n",
            " 5   longitude       1749 non-null   float64\n",
            " 6   property_type   1749 non-null   object \n",
            " 7   room_type       1749 non-null   object \n",
            " 8   accomodates     1749 non-null   int64  \n",
            " 9   bathrooms_text  1749 non-null   object \n",
            " 10  bedrooms        1621 non-null   float64\n",
            " 11  beds            1708 non-null   float64\n",
            " 12  amenities       1749 non-null   object \n",
            " 13  host_id         1749 non-null   int64  \n",
            "dtypes: float64(4), int64(3), object(7)\n",
            "memory usage: 191.4+ KB\n"
          ]
        }
      ]
    },
    {
      "cell_type": "code",
      "source": [
        "len(df_l.listing_id.unique())"
      ],
      "metadata": {
        "colab": {
          "base_uri": "https://localhost:8080/"
        },
        "id": "uIQ0E5XfYN3O",
        "outputId": "2edd06dc-a532-4009-8dd9-5f6e5071116e"
      },
      "execution_count": 38,
      "outputs": [
        {
          "output_type": "execute_result",
          "data": {
            "text/plain": [
              "1749"
            ]
          },
          "metadata": {},
          "execution_count": 38
        }
      ]
    },
    {
      "cell_type": "markdown",
      "source": [
        "##3-For Host table"
      ],
      "metadata": {
        "id": "xG5780H9WCz3"
      }
    },
    {
      "cell_type": "code",
      "source": [
        "df_h.head()"
      ],
      "metadata": {
        "id": "_Y6pHyK_UJPb"
      },
      "execution_count": null,
      "outputs": []
    },
    {
      "cell_type": "code",
      "source": [
        "df_h.info()"
      ],
      "metadata": {
        "colab": {
          "base_uri": "https://localhost:8080/"
        },
        "id": "Mw5Can8gXB0g",
        "outputId": "9b432b09-30b7-4277-bf77-ccf1cf4b6286"
      },
      "execution_count": 28,
      "outputs": [
        {
          "output_type": "stream",
          "name": "stdout",
          "text": [
            "<class 'pandas.core.frame.DataFrame'>\n",
            "RangeIndex: 1112 entries, 0 to 1111\n",
            "Data columns (total 5 columns):\n",
            " #   Column         Non-Null Count  Dtype \n",
            "---  ------         --------------  ----- \n",
            " 0   host_id        1112 non-null   object\n",
            " 1   host_name      1111 non-null   object\n",
            " 2   host_since     1111 non-null   object\n",
            " 3   host_location  1108 non-null   object\n",
            " 4   host_about     490 non-null    object\n",
            "dtypes: object(5)\n",
            "memory usage: 43.6+ KB\n"
          ]
        }
      ]
    },
    {
      "cell_type": "markdown",
      "source": [
        "##4-For Reviews Table"
      ],
      "metadata": {
        "id": "451f8SjtWNFq"
      }
    },
    {
      "cell_type": "code",
      "source": [
        "df_r.head()"
      ],
      "metadata": {
        "id": "fEr6_AHGUJlX"
      },
      "execution_count": null,
      "outputs": []
    },
    {
      "cell_type": "code",
      "source": [
        "df_r.info()"
      ],
      "metadata": {
        "colab": {
          "base_uri": "https://localhost:8080/"
        },
        "id": "TwZl4YO0XGPY",
        "outputId": "2a8b1675-d362-4265-f069-84423b6cf8c5"
      },
      "execution_count": 29,
      "outputs": [
        {
          "output_type": "stream",
          "name": "stdout",
          "text": [
            "<class 'pandas.core.frame.DataFrame'>\n",
            "RangeIndex: 63658 entries, 0 to 63657\n",
            "Data columns (total 6 columns):\n",
            " #   Column         Non-Null Count  Dtype  \n",
            "---  ------         --------------  -----  \n",
            " 0   review_id      63658 non-null  object \n",
            " 1   listing_id     62987 non-null  float64\n",
            " 2   date           62987 non-null  object \n",
            " 3   reviewer_id    62987 non-null  float64\n",
            " 4   reviewer_name  62987 non-null  object \n",
            " 5   comments       62923 non-null  object \n",
            "dtypes: float64(2), object(4)\n",
            "memory usage: 2.9+ MB\n"
          ]
        }
      ]
    },
    {
      "cell_type": "code",
      "source": [
        "len(df_r.listing_id.unique())"
      ],
      "metadata": {
        "colab": {
          "base_uri": "https://localhost:8080/"
        },
        "id": "t02u-TryUPyz",
        "outputId": "3424782c-2fad-4d49-8966-ee7a21f14448"
      },
      "execution_count": 40,
      "outputs": [
        {
          "output_type": "execute_result",
          "data": {
            "text/plain": [
              "1526"
            ]
          },
          "metadata": {},
          "execution_count": 40
        }
      ]
    },
    {
      "cell_type": "markdown",
      "source": [
        "#Merging Column"
      ],
      "metadata": {
        "id": "GfpdqkOuZhU1"
      }
    },
    {
      "cell_type": "code",
      "source": [
        "df = pd.read_sql_query(\"\"\"SELECT \n",
        "                          Calendar.listing_id,\n",
        "                          Calendar.available,\n",
        "                          Calendar.price,\n",
        "                          Calendar.adjusted_price,\n",
        "                          Calendar.minimum_nights,\n",
        "                          Calendar.maximum_nights,\n",
        "                          Listings.property_type,\n",
        "                          Listings.room_type,\n",
        "                          Listings.accomodates,\n",
        "                          Listings.bathrooms_text,\n",
        "                          Listings.bedrooms,\n",
        "                          Listings.beds \n",
        "                          FROM Calendar \n",
        "                          LEFT JOIN Listings ON Calendar.listing_id = Listings.listing_id \n",
        "                          LEFT JOIN Hosts ON Listings.host_id = Hosts.host_id\"\"\", conn)\n",
        "\n",
        "\n",
        "df.to_csv('database.csv', index=False)\n"
      ],
      "metadata": {
        "id": "DfZmaplcZgNT"
      },
      "execution_count": 5,
      "outputs": []
    },
    {
      "cell_type": "code",
      "source": [
        "df = pd.read_csv(\"/content/database.csv\")"
      ],
      "metadata": {
        "id": "VFXyueumqsou"
      },
      "execution_count": 6,
      "outputs": []
    },
    {
      "cell_type": "code",
      "source": [
        "df.head()"
      ],
      "metadata": {
        "colab": {
          "base_uri": "https://localhost:8080/",
          "height": 206
        },
        "id": "HNUNAI3ajp73",
        "outputId": "7c691deb-172e-4895-ed7d-8bd4d3612207"
      },
      "execution_count": 7,
      "outputs": [
        {
          "output_type": "execute_result",
          "data": {
            "text/plain": [
              "   listing_id  available  price  adjusted_price  minimum_nights  \\\n",
              "0    40334325          0   56.0            56.0               3   \n",
              "1    22742449          1   95.0            95.0               2   \n",
              "2    34621717          0   75.0            75.0               2   \n",
              "3    38281744          1  150.0           150.0               1   \n",
              "4    18835003          0  100.0           100.0               2   \n",
              "\n",
              "   maximum_nights       property_type        room_type  accomodates  \\\n",
              "0               5  Entire rental unit  Entire home/apt            2   \n",
              "1              99  Entire rental unit  Entire home/apt            4   \n",
              "2            1125  Entire rental unit  Entire home/apt            2   \n",
              "3            1000       Room in hotel     Private room            2   \n",
              "4            1125         Entire loft  Entire home/apt            2   \n",
              "\n",
              "  bathrooms_text  bedrooms  beds  \n",
              "0         1 bath       NaN   2.0  \n",
              "1         1 bath       2.0   2.0  \n",
              "2         1 bath       1.0   1.0  \n",
              "3         1 bath       1.0   1.0  \n",
              "4         1 bath       1.0   1.0  "
            ],
            "text/html": [
              "\n",
              "  <div id=\"df-2e2dcdbc-4bc8-4c77-83f3-268a3cb444cd\">\n",
              "    <div class=\"colab-df-container\">\n",
              "      <div>\n",
              "<style scoped>\n",
              "    .dataframe tbody tr th:only-of-type {\n",
              "        vertical-align: middle;\n",
              "    }\n",
              "\n",
              "    .dataframe tbody tr th {\n",
              "        vertical-align: top;\n",
              "    }\n",
              "\n",
              "    .dataframe thead th {\n",
              "        text-align: right;\n",
              "    }\n",
              "</style>\n",
              "<table border=\"1\" class=\"dataframe\">\n",
              "  <thead>\n",
              "    <tr style=\"text-align: right;\">\n",
              "      <th></th>\n",
              "      <th>listing_id</th>\n",
              "      <th>available</th>\n",
              "      <th>price</th>\n",
              "      <th>adjusted_price</th>\n",
              "      <th>minimum_nights</th>\n",
              "      <th>maximum_nights</th>\n",
              "      <th>property_type</th>\n",
              "      <th>room_type</th>\n",
              "      <th>accomodates</th>\n",
              "      <th>bathrooms_text</th>\n",
              "      <th>bedrooms</th>\n",
              "      <th>beds</th>\n",
              "    </tr>\n",
              "  </thead>\n",
              "  <tbody>\n",
              "    <tr>\n",
              "      <th>0</th>\n",
              "      <td>40334325</td>\n",
              "      <td>0</td>\n",
              "      <td>56.0</td>\n",
              "      <td>56.0</td>\n",
              "      <td>3</td>\n",
              "      <td>5</td>\n",
              "      <td>Entire rental unit</td>\n",
              "      <td>Entire home/apt</td>\n",
              "      <td>2</td>\n",
              "      <td>1 bath</td>\n",
              "      <td>NaN</td>\n",
              "      <td>2.0</td>\n",
              "    </tr>\n",
              "    <tr>\n",
              "      <th>1</th>\n",
              "      <td>22742449</td>\n",
              "      <td>1</td>\n",
              "      <td>95.0</td>\n",
              "      <td>95.0</td>\n",
              "      <td>2</td>\n",
              "      <td>99</td>\n",
              "      <td>Entire rental unit</td>\n",
              "      <td>Entire home/apt</td>\n",
              "      <td>4</td>\n",
              "      <td>1 bath</td>\n",
              "      <td>2.0</td>\n",
              "      <td>2.0</td>\n",
              "    </tr>\n",
              "    <tr>\n",
              "      <th>2</th>\n",
              "      <td>34621717</td>\n",
              "      <td>0</td>\n",
              "      <td>75.0</td>\n",
              "      <td>75.0</td>\n",
              "      <td>2</td>\n",
              "      <td>1125</td>\n",
              "      <td>Entire rental unit</td>\n",
              "      <td>Entire home/apt</td>\n",
              "      <td>2</td>\n",
              "      <td>1 bath</td>\n",
              "      <td>1.0</td>\n",
              "      <td>1.0</td>\n",
              "    </tr>\n",
              "    <tr>\n",
              "      <th>3</th>\n",
              "      <td>38281744</td>\n",
              "      <td>1</td>\n",
              "      <td>150.0</td>\n",
              "      <td>150.0</td>\n",
              "      <td>1</td>\n",
              "      <td>1000</td>\n",
              "      <td>Room in hotel</td>\n",
              "      <td>Private room</td>\n",
              "      <td>2</td>\n",
              "      <td>1 bath</td>\n",
              "      <td>1.0</td>\n",
              "      <td>1.0</td>\n",
              "    </tr>\n",
              "    <tr>\n",
              "      <th>4</th>\n",
              "      <td>18835003</td>\n",
              "      <td>0</td>\n",
              "      <td>100.0</td>\n",
              "      <td>100.0</td>\n",
              "      <td>2</td>\n",
              "      <td>1125</td>\n",
              "      <td>Entire loft</td>\n",
              "      <td>Entire home/apt</td>\n",
              "      <td>2</td>\n",
              "      <td>1 bath</td>\n",
              "      <td>1.0</td>\n",
              "      <td>1.0</td>\n",
              "    </tr>\n",
              "  </tbody>\n",
              "</table>\n",
              "</div>\n",
              "      <button class=\"colab-df-convert\" onclick=\"convertToInteractive('df-2e2dcdbc-4bc8-4c77-83f3-268a3cb444cd')\"\n",
              "              title=\"Convert this dataframe to an interactive table.\"\n",
              "              style=\"display:none;\">\n",
              "        \n",
              "  <svg xmlns=\"http://www.w3.org/2000/svg\" height=\"24px\"viewBox=\"0 0 24 24\"\n",
              "       width=\"24px\">\n",
              "    <path d=\"M0 0h24v24H0V0z\" fill=\"none\"/>\n",
              "    <path d=\"M18.56 5.44l.94 2.06.94-2.06 2.06-.94-2.06-.94-.94-2.06-.94 2.06-2.06.94zm-11 1L8.5 8.5l.94-2.06 2.06-.94-2.06-.94L8.5 2.5l-.94 2.06-2.06.94zm10 10l.94 2.06.94-2.06 2.06-.94-2.06-.94-.94-2.06-.94 2.06-2.06.94z\"/><path d=\"M17.41 7.96l-1.37-1.37c-.4-.4-.92-.59-1.43-.59-.52 0-1.04.2-1.43.59L10.3 9.45l-7.72 7.72c-.78.78-.78 2.05 0 2.83L4 21.41c.39.39.9.59 1.41.59.51 0 1.02-.2 1.41-.59l7.78-7.78 2.81-2.81c.8-.78.8-2.07 0-2.86zM5.41 20L4 18.59l7.72-7.72 1.47 1.35L5.41 20z\"/>\n",
              "  </svg>\n",
              "      </button>\n",
              "      \n",
              "  <style>\n",
              "    .colab-df-container {\n",
              "      display:flex;\n",
              "      flex-wrap:wrap;\n",
              "      gap: 12px;\n",
              "    }\n",
              "\n",
              "    .colab-df-convert {\n",
              "      background-color: #E8F0FE;\n",
              "      border: none;\n",
              "      border-radius: 50%;\n",
              "      cursor: pointer;\n",
              "      display: none;\n",
              "      fill: #1967D2;\n",
              "      height: 32px;\n",
              "      padding: 0 0 0 0;\n",
              "      width: 32px;\n",
              "    }\n",
              "\n",
              "    .colab-df-convert:hover {\n",
              "      background-color: #E2EBFA;\n",
              "      box-shadow: 0px 1px 2px rgba(60, 64, 67, 0.3), 0px 1px 3px 1px rgba(60, 64, 67, 0.15);\n",
              "      fill: #174EA6;\n",
              "    }\n",
              "\n",
              "    [theme=dark] .colab-df-convert {\n",
              "      background-color: #3B4455;\n",
              "      fill: #D2E3FC;\n",
              "    }\n",
              "\n",
              "    [theme=dark] .colab-df-convert:hover {\n",
              "      background-color: #434B5C;\n",
              "      box-shadow: 0px 1px 3px 1px rgba(0, 0, 0, 0.15);\n",
              "      filter: drop-shadow(0px 1px 2px rgba(0, 0, 0, 0.3));\n",
              "      fill: #FFFFFF;\n",
              "    }\n",
              "  </style>\n",
              "\n",
              "      <script>\n",
              "        const buttonEl =\n",
              "          document.querySelector('#df-2e2dcdbc-4bc8-4c77-83f3-268a3cb444cd button.colab-df-convert');\n",
              "        buttonEl.style.display =\n",
              "          google.colab.kernel.accessAllowed ? 'block' : 'none';\n",
              "\n",
              "        async function convertToInteractive(key) {\n",
              "          const element = document.querySelector('#df-2e2dcdbc-4bc8-4c77-83f3-268a3cb444cd');\n",
              "          const dataTable =\n",
              "            await google.colab.kernel.invokeFunction('convertToInteractive',\n",
              "                                                     [key], {});\n",
              "          if (!dataTable) return;\n",
              "\n",
              "          const docLinkHtml = 'Like what you see? Visit the ' +\n",
              "            '<a target=\"_blank\" href=https://colab.research.google.com/notebooks/data_table.ipynb>data table notebook</a>'\n",
              "            + ' to learn more about interactive tables.';\n",
              "          element.innerHTML = '';\n",
              "          dataTable['output_type'] = 'display_data';\n",
              "          await google.colab.output.renderOutput(dataTable, element);\n",
              "          const docLink = document.createElement('div');\n",
              "          docLink.innerHTML = docLinkHtml;\n",
              "          element.appendChild(docLink);\n",
              "        }\n",
              "      </script>\n",
              "    </div>\n",
              "  </div>\n",
              "  "
            ]
          },
          "metadata": {},
          "execution_count": 7
        }
      ]
    },
    {
      "cell_type": "markdown",
      "source": [
        "##Data Cleaning"
      ],
      "metadata": {
        "id": "nAlrFzKVpjUb"
      }
    },
    {
      "cell_type": "code",
      "source": [
        "#Print all Type of values present in the column\n",
        "print(\"available Types = \"+str(df.available.unique())) \n",
        "print()\n",
        "print(\"property Types = \"+str(len(df.property_type.unique())))\n",
        "print()\n",
        "print(\"room Type = \"+str(df.room_type.unique()))\n",
        "print()\n",
        "print(\"bathrooms Type = \"+str(df.bathrooms_text.unique()))\n",
        "print()"
      ],
      "metadata": {
        "colab": {
          "base_uri": "https://localhost:8080/"
        },
        "id": "iGVtZs5tj7Yi",
        "outputId": "195e13dd-e8fd-4993-f07d-7c049f8670d1"
      },
      "execution_count": 8,
      "outputs": [
        {
          "output_type": "stream",
          "name": "stdout",
          "text": [
            "available Types = [0 1]\n",
            "\n",
            "property Types = 39\n",
            "\n",
            "room Type = ['Entire home/apt' 'Private room' 'Hotel room' 'Shared room']\n",
            "\n",
            "bathrooms Type = ['1 bath' '2.5 shared baths' '1.5 baths' '1 private bath'\n",
            " '1.5 shared baths' '1 shared bath' '4 baths' '3 baths' '2.5 baths'\n",
            " '2 baths' '2 shared baths' '3 shared baths' '3.5 baths' '0 shared baths'\n",
            " 'Half-bath' '5 baths' 'Private half-bath' 'Shared half-bath' '8.5 baths'\n",
            " '6 baths' '7.5 baths' '0 baths' '8 baths' '4 shared baths' '15.5 baths'\n",
            " '6.5 baths']\n",
            "\n"
          ]
        }
      ]
    },
    {
      "cell_type": "code",
      "source": [
        "#Check for null values in Data frame\n",
        "df.isnull().sum(axis = 0)"
      ],
      "metadata": {
        "colab": {
          "base_uri": "https://localhost:8080/"
        },
        "id": "qp0NnqYzoAgb",
        "outputId": "bdd29ed0-3e16-439b-9e24-d07799290dc5"
      },
      "execution_count": 9,
      "outputs": [
        {
          "output_type": "execute_result",
          "data": {
            "text/plain": [
              "listing_id            0\n",
              "available             0\n",
              "price                75\n",
              "adjusted_price       75\n",
              "minimum_nights        0\n",
              "maximum_nights        0\n",
              "property_type         0\n",
              "room_type             0\n",
              "accomodates           0\n",
              "bathrooms_text        0\n",
              "bedrooms          23376\n",
              "beds               7428\n",
              "dtype: int64"
            ]
          },
          "metadata": {},
          "execution_count": 9
        }
      ]
    },
    {
      "cell_type": "code",
      "source": [
        "df.info()"
      ],
      "metadata": {
        "colab": {
          "base_uri": "https://localhost:8080/"
        },
        "id": "oKOe1ABpopz9",
        "outputId": "e1ea3218-d05c-4d67-ef64-77aab30594d6"
      },
      "execution_count": 10,
      "outputs": [
        {
          "output_type": "stream",
          "name": "stdout",
          "text": [
            "<class 'pandas.core.frame.DataFrame'>\n",
            "RangeIndex: 319192 entries, 0 to 319191\n",
            "Data columns (total 12 columns):\n",
            " #   Column          Non-Null Count   Dtype  \n",
            "---  ------          --------------   -----  \n",
            " 0   listing_id      319192 non-null  int64  \n",
            " 1   available       319192 non-null  int64  \n",
            " 2   price           319117 non-null  float64\n",
            " 3   adjusted_price  319117 non-null  float64\n",
            " 4   minimum_nights  319192 non-null  int64  \n",
            " 5   maximum_nights  319192 non-null  int64  \n",
            " 6   property_type   319192 non-null  object \n",
            " 7   room_type       319192 non-null  object \n",
            " 8   accomodates     319192 non-null  int64  \n",
            " 9   bathrooms_text  319192 non-null  object \n",
            " 10  bedrooms        295816 non-null  float64\n",
            " 11  beds            311764 non-null  float64\n",
            "dtypes: float64(4), int64(5), object(3)\n",
            "memory usage: 29.2+ MB\n"
          ]
        }
      ]
    },
    {
      "cell_type": "code",
      "source": [
        "df['beds'] = df['beds'].fillna(0)\n",
        "df['price'] = df['price'].fillna(0)\n",
        "df['adjusted_price'] = df['adjusted_price'].fillna(0)\n",
        "df['bedrooms'] = df['bedrooms'].fillna(0)\n",
        "\n",
        "df['beds'] = df['beds'].astype(float)\n",
        "df['price'] = df['price'].astype(float)\n",
        "df['adjusted_price'] = df['adjusted_price'].astype(float)\n",
        "df['bedrooms'] = df['bedrooms'].astype(float)"
      ],
      "metadata": {
        "id": "aSFsNwMVou8J"
      },
      "execution_count": 11,
      "outputs": []
    },
    {
      "cell_type": "code",
      "source": [
        "df['bathrooms_text'] = df['bathrooms_text'].str.replace('Private half-bath','0.5')\n",
        "df['bathrooms_text'] = df['bathrooms_text'].str.replace('Shared half-bath','0.5')\n",
        "df['bathrooms_text'] = df['bathrooms_text'].str.replace(' shared baths','')\n",
        "df['bathrooms_text'] = df['bathrooms_text'].str.replace(' shared bath','')\n",
        "df['bathrooms_text'] = df['bathrooms_text'].str.replace(' private bath','')\n",
        "df['bathrooms_text'] = df['bathrooms_text'].str.replace('Half-bath','0.5')\n",
        "df['bathrooms_text'] = df['bathrooms_text'].str.replace(' baths','')\n",
        "df['bathrooms_text'] = df['bathrooms_text'].str.replace(' bath','')"
      ],
      "metadata": {
        "id": "s-i_8BJcpF5W"
      },
      "execution_count": 12,
      "outputs": []
    },
    {
      "cell_type": "code",
      "source": [
        "df.bathrooms_text.unique()"
      ],
      "metadata": {
        "colab": {
          "base_uri": "https://localhost:8080/"
        },
        "id": "Uide0PUwqdRL",
        "outputId": "988d4fcc-8a1d-4528-ee25-a79adbca0f22"
      },
      "execution_count": 13,
      "outputs": [
        {
          "output_type": "execute_result",
          "data": {
            "text/plain": [
              "array(['1', '2.5', '1.5', '4', '3', '2', '3.5', '0', '0.5', '5', '8.5',\n",
              "       '6', '7.5', '8', '15.5', '6.5'], dtype=object)"
            ]
          },
          "metadata": {},
          "execution_count": 13
        }
      ]
    },
    {
      "cell_type": "code",
      "source": [
        "df['bathrooms_text'] = df['bathrooms_text'].astype(float)"
      ],
      "metadata": {
        "id": "zVOXRipQsXGf"
      },
      "execution_count": 14,
      "outputs": []
    },
    {
      "cell_type": "code",
      "source": [
        "df.info()"
      ],
      "metadata": {
        "colab": {
          "base_uri": "https://localhost:8080/"
        },
        "id": "GuEv2Kwhqhxz",
        "outputId": "019feace-c319-4ba1-f814-78337a2714f3"
      },
      "execution_count": 15,
      "outputs": [
        {
          "output_type": "stream",
          "name": "stdout",
          "text": [
            "<class 'pandas.core.frame.DataFrame'>\n",
            "RangeIndex: 319192 entries, 0 to 319191\n",
            "Data columns (total 12 columns):\n",
            " #   Column          Non-Null Count   Dtype  \n",
            "---  ------          --------------   -----  \n",
            " 0   listing_id      319192 non-null  int64  \n",
            " 1   available       319192 non-null  int64  \n",
            " 2   price           319192 non-null  float64\n",
            " 3   adjusted_price  319192 non-null  float64\n",
            " 4   minimum_nights  319192 non-null  int64  \n",
            " 5   maximum_nights  319192 non-null  int64  \n",
            " 6   property_type   319192 non-null  object \n",
            " 7   room_type       319192 non-null  object \n",
            " 8   accomodates     319192 non-null  int64  \n",
            " 9   bathrooms_text  319192 non-null  float64\n",
            " 10  bedrooms        319192 non-null  float64\n",
            " 11  beds            319192 non-null  float64\n",
            "dtypes: float64(5), int64(5), object(2)\n",
            "memory usage: 29.2+ MB\n"
          ]
        }
      ]
    },
    {
      "cell_type": "code",
      "source": [
        "df.head(3)"
      ],
      "metadata": {
        "colab": {
          "base_uri": "https://localhost:8080/",
          "height": 143
        },
        "id": "vZuvBqsZsQhz",
        "outputId": "89e9b365-b7e5-415f-8f03-56af0ffdc47a"
      },
      "execution_count": 16,
      "outputs": [
        {
          "output_type": "execute_result",
          "data": {
            "text/plain": [
              "   listing_id  available  price  adjusted_price  minimum_nights  \\\n",
              "0    40334325          0   56.0            56.0               3   \n",
              "1    22742449          1   95.0            95.0               2   \n",
              "2    34621717          0   75.0            75.0               2   \n",
              "\n",
              "   maximum_nights       property_type        room_type  accomodates  \\\n",
              "0               5  Entire rental unit  Entire home/apt            2   \n",
              "1              99  Entire rental unit  Entire home/apt            4   \n",
              "2            1125  Entire rental unit  Entire home/apt            2   \n",
              "\n",
              "   bathrooms_text  bedrooms  beds  \n",
              "0             1.0       0.0   2.0  \n",
              "1             1.0       2.0   2.0  \n",
              "2             1.0       1.0   1.0  "
            ],
            "text/html": [
              "\n",
              "  <div id=\"df-a865fcca-7c04-4faf-a5d9-6a905484da1c\">\n",
              "    <div class=\"colab-df-container\">\n",
              "      <div>\n",
              "<style scoped>\n",
              "    .dataframe tbody tr th:only-of-type {\n",
              "        vertical-align: middle;\n",
              "    }\n",
              "\n",
              "    .dataframe tbody tr th {\n",
              "        vertical-align: top;\n",
              "    }\n",
              "\n",
              "    .dataframe thead th {\n",
              "        text-align: right;\n",
              "    }\n",
              "</style>\n",
              "<table border=\"1\" class=\"dataframe\">\n",
              "  <thead>\n",
              "    <tr style=\"text-align: right;\">\n",
              "      <th></th>\n",
              "      <th>listing_id</th>\n",
              "      <th>available</th>\n",
              "      <th>price</th>\n",
              "      <th>adjusted_price</th>\n",
              "      <th>minimum_nights</th>\n",
              "      <th>maximum_nights</th>\n",
              "      <th>property_type</th>\n",
              "      <th>room_type</th>\n",
              "      <th>accomodates</th>\n",
              "      <th>bathrooms_text</th>\n",
              "      <th>bedrooms</th>\n",
              "      <th>beds</th>\n",
              "    </tr>\n",
              "  </thead>\n",
              "  <tbody>\n",
              "    <tr>\n",
              "      <th>0</th>\n",
              "      <td>40334325</td>\n",
              "      <td>0</td>\n",
              "      <td>56.0</td>\n",
              "      <td>56.0</td>\n",
              "      <td>3</td>\n",
              "      <td>5</td>\n",
              "      <td>Entire rental unit</td>\n",
              "      <td>Entire home/apt</td>\n",
              "      <td>2</td>\n",
              "      <td>1.0</td>\n",
              "      <td>0.0</td>\n",
              "      <td>2.0</td>\n",
              "    </tr>\n",
              "    <tr>\n",
              "      <th>1</th>\n",
              "      <td>22742449</td>\n",
              "      <td>1</td>\n",
              "      <td>95.0</td>\n",
              "      <td>95.0</td>\n",
              "      <td>2</td>\n",
              "      <td>99</td>\n",
              "      <td>Entire rental unit</td>\n",
              "      <td>Entire home/apt</td>\n",
              "      <td>4</td>\n",
              "      <td>1.0</td>\n",
              "      <td>2.0</td>\n",
              "      <td>2.0</td>\n",
              "    </tr>\n",
              "    <tr>\n",
              "      <th>2</th>\n",
              "      <td>34621717</td>\n",
              "      <td>0</td>\n",
              "      <td>75.0</td>\n",
              "      <td>75.0</td>\n",
              "      <td>2</td>\n",
              "      <td>1125</td>\n",
              "      <td>Entire rental unit</td>\n",
              "      <td>Entire home/apt</td>\n",
              "      <td>2</td>\n",
              "      <td>1.0</td>\n",
              "      <td>1.0</td>\n",
              "      <td>1.0</td>\n",
              "    </tr>\n",
              "  </tbody>\n",
              "</table>\n",
              "</div>\n",
              "      <button class=\"colab-df-convert\" onclick=\"convertToInteractive('df-a865fcca-7c04-4faf-a5d9-6a905484da1c')\"\n",
              "              title=\"Convert this dataframe to an interactive table.\"\n",
              "              style=\"display:none;\">\n",
              "        \n",
              "  <svg xmlns=\"http://www.w3.org/2000/svg\" height=\"24px\"viewBox=\"0 0 24 24\"\n",
              "       width=\"24px\">\n",
              "    <path d=\"M0 0h24v24H0V0z\" fill=\"none\"/>\n",
              "    <path d=\"M18.56 5.44l.94 2.06.94-2.06 2.06-.94-2.06-.94-.94-2.06-.94 2.06-2.06.94zm-11 1L8.5 8.5l.94-2.06 2.06-.94-2.06-.94L8.5 2.5l-.94 2.06-2.06.94zm10 10l.94 2.06.94-2.06 2.06-.94-2.06-.94-.94-2.06-.94 2.06-2.06.94z\"/><path d=\"M17.41 7.96l-1.37-1.37c-.4-.4-.92-.59-1.43-.59-.52 0-1.04.2-1.43.59L10.3 9.45l-7.72 7.72c-.78.78-.78 2.05 0 2.83L4 21.41c.39.39.9.59 1.41.59.51 0 1.02-.2 1.41-.59l7.78-7.78 2.81-2.81c.8-.78.8-2.07 0-2.86zM5.41 20L4 18.59l7.72-7.72 1.47 1.35L5.41 20z\"/>\n",
              "  </svg>\n",
              "      </button>\n",
              "      \n",
              "  <style>\n",
              "    .colab-df-container {\n",
              "      display:flex;\n",
              "      flex-wrap:wrap;\n",
              "      gap: 12px;\n",
              "    }\n",
              "\n",
              "    .colab-df-convert {\n",
              "      background-color: #E8F0FE;\n",
              "      border: none;\n",
              "      border-radius: 50%;\n",
              "      cursor: pointer;\n",
              "      display: none;\n",
              "      fill: #1967D2;\n",
              "      height: 32px;\n",
              "      padding: 0 0 0 0;\n",
              "      width: 32px;\n",
              "    }\n",
              "\n",
              "    .colab-df-convert:hover {\n",
              "      background-color: #E2EBFA;\n",
              "      box-shadow: 0px 1px 2px rgba(60, 64, 67, 0.3), 0px 1px 3px 1px rgba(60, 64, 67, 0.15);\n",
              "      fill: #174EA6;\n",
              "    }\n",
              "\n",
              "    [theme=dark] .colab-df-convert {\n",
              "      background-color: #3B4455;\n",
              "      fill: #D2E3FC;\n",
              "    }\n",
              "\n",
              "    [theme=dark] .colab-df-convert:hover {\n",
              "      background-color: #434B5C;\n",
              "      box-shadow: 0px 1px 3px 1px rgba(0, 0, 0, 0.15);\n",
              "      filter: drop-shadow(0px 1px 2px rgba(0, 0, 0, 0.3));\n",
              "      fill: #FFFFFF;\n",
              "    }\n",
              "  </style>\n",
              "\n",
              "      <script>\n",
              "        const buttonEl =\n",
              "          document.querySelector('#df-a865fcca-7c04-4faf-a5d9-6a905484da1c button.colab-df-convert');\n",
              "        buttonEl.style.display =\n",
              "          google.colab.kernel.accessAllowed ? 'block' : 'none';\n",
              "\n",
              "        async function convertToInteractive(key) {\n",
              "          const element = document.querySelector('#df-a865fcca-7c04-4faf-a5d9-6a905484da1c');\n",
              "          const dataTable =\n",
              "            await google.colab.kernel.invokeFunction('convertToInteractive',\n",
              "                                                     [key], {});\n",
              "          if (!dataTable) return;\n",
              "\n",
              "          const docLinkHtml = 'Like what you see? Visit the ' +\n",
              "            '<a target=\"_blank\" href=https://colab.research.google.com/notebooks/data_table.ipynb>data table notebook</a>'\n",
              "            + ' to learn more about interactive tables.';\n",
              "          element.innerHTML = '';\n",
              "          dataTable['output_type'] = 'display_data';\n",
              "          await google.colab.output.renderOutput(dataTable, element);\n",
              "          const docLink = document.createElement('div');\n",
              "          docLink.innerHTML = docLinkHtml;\n",
              "          element.appendChild(docLink);\n",
              "        }\n",
              "      </script>\n",
              "    </div>\n",
              "  </div>\n",
              "  "
            ]
          },
          "metadata": {},
          "execution_count": 16
        }
      ]
    },
    {
      "cell_type": "code",
      "source": [
        "df.head()"
      ],
      "metadata": {
        "colab": {
          "base_uri": "https://localhost:8080/",
          "height": 206
        },
        "id": "UyZWckW1vSTX",
        "outputId": "ff8fb869-4262-4fc4-d73e-429e6cd51719"
      },
      "execution_count": 17,
      "outputs": [
        {
          "output_type": "execute_result",
          "data": {
            "text/plain": [
              "   listing_id  available  price  adjusted_price  minimum_nights  \\\n",
              "0    40334325          0   56.0            56.0               3   \n",
              "1    22742449          1   95.0            95.0               2   \n",
              "2    34621717          0   75.0            75.0               2   \n",
              "3    38281744          1  150.0           150.0               1   \n",
              "4    18835003          0  100.0           100.0               2   \n",
              "\n",
              "   maximum_nights       property_type        room_type  accomodates  \\\n",
              "0               5  Entire rental unit  Entire home/apt            2   \n",
              "1              99  Entire rental unit  Entire home/apt            4   \n",
              "2            1125  Entire rental unit  Entire home/apt            2   \n",
              "3            1000       Room in hotel     Private room            2   \n",
              "4            1125         Entire loft  Entire home/apt            2   \n",
              "\n",
              "   bathrooms_text  bedrooms  beds  \n",
              "0             1.0       0.0   2.0  \n",
              "1             1.0       2.0   2.0  \n",
              "2             1.0       1.0   1.0  \n",
              "3             1.0       1.0   1.0  \n",
              "4             1.0       1.0   1.0  "
            ],
            "text/html": [
              "\n",
              "  <div id=\"df-8f552cfe-6ebc-4a2b-b274-1a88bf121edf\">\n",
              "    <div class=\"colab-df-container\">\n",
              "      <div>\n",
              "<style scoped>\n",
              "    .dataframe tbody tr th:only-of-type {\n",
              "        vertical-align: middle;\n",
              "    }\n",
              "\n",
              "    .dataframe tbody tr th {\n",
              "        vertical-align: top;\n",
              "    }\n",
              "\n",
              "    .dataframe thead th {\n",
              "        text-align: right;\n",
              "    }\n",
              "</style>\n",
              "<table border=\"1\" class=\"dataframe\">\n",
              "  <thead>\n",
              "    <tr style=\"text-align: right;\">\n",
              "      <th></th>\n",
              "      <th>listing_id</th>\n",
              "      <th>available</th>\n",
              "      <th>price</th>\n",
              "      <th>adjusted_price</th>\n",
              "      <th>minimum_nights</th>\n",
              "      <th>maximum_nights</th>\n",
              "      <th>property_type</th>\n",
              "      <th>room_type</th>\n",
              "      <th>accomodates</th>\n",
              "      <th>bathrooms_text</th>\n",
              "      <th>bedrooms</th>\n",
              "      <th>beds</th>\n",
              "    </tr>\n",
              "  </thead>\n",
              "  <tbody>\n",
              "    <tr>\n",
              "      <th>0</th>\n",
              "      <td>40334325</td>\n",
              "      <td>0</td>\n",
              "      <td>56.0</td>\n",
              "      <td>56.0</td>\n",
              "      <td>3</td>\n",
              "      <td>5</td>\n",
              "      <td>Entire rental unit</td>\n",
              "      <td>Entire home/apt</td>\n",
              "      <td>2</td>\n",
              "      <td>1.0</td>\n",
              "      <td>0.0</td>\n",
              "      <td>2.0</td>\n",
              "    </tr>\n",
              "    <tr>\n",
              "      <th>1</th>\n",
              "      <td>22742449</td>\n",
              "      <td>1</td>\n",
              "      <td>95.0</td>\n",
              "      <td>95.0</td>\n",
              "      <td>2</td>\n",
              "      <td>99</td>\n",
              "      <td>Entire rental unit</td>\n",
              "      <td>Entire home/apt</td>\n",
              "      <td>4</td>\n",
              "      <td>1.0</td>\n",
              "      <td>2.0</td>\n",
              "      <td>2.0</td>\n",
              "    </tr>\n",
              "    <tr>\n",
              "      <th>2</th>\n",
              "      <td>34621717</td>\n",
              "      <td>0</td>\n",
              "      <td>75.0</td>\n",
              "      <td>75.0</td>\n",
              "      <td>2</td>\n",
              "      <td>1125</td>\n",
              "      <td>Entire rental unit</td>\n",
              "      <td>Entire home/apt</td>\n",
              "      <td>2</td>\n",
              "      <td>1.0</td>\n",
              "      <td>1.0</td>\n",
              "      <td>1.0</td>\n",
              "    </tr>\n",
              "    <tr>\n",
              "      <th>3</th>\n",
              "      <td>38281744</td>\n",
              "      <td>1</td>\n",
              "      <td>150.0</td>\n",
              "      <td>150.0</td>\n",
              "      <td>1</td>\n",
              "      <td>1000</td>\n",
              "      <td>Room in hotel</td>\n",
              "      <td>Private room</td>\n",
              "      <td>2</td>\n",
              "      <td>1.0</td>\n",
              "      <td>1.0</td>\n",
              "      <td>1.0</td>\n",
              "    </tr>\n",
              "    <tr>\n",
              "      <th>4</th>\n",
              "      <td>18835003</td>\n",
              "      <td>0</td>\n",
              "      <td>100.0</td>\n",
              "      <td>100.0</td>\n",
              "      <td>2</td>\n",
              "      <td>1125</td>\n",
              "      <td>Entire loft</td>\n",
              "      <td>Entire home/apt</td>\n",
              "      <td>2</td>\n",
              "      <td>1.0</td>\n",
              "      <td>1.0</td>\n",
              "      <td>1.0</td>\n",
              "    </tr>\n",
              "  </tbody>\n",
              "</table>\n",
              "</div>\n",
              "      <button class=\"colab-df-convert\" onclick=\"convertToInteractive('df-8f552cfe-6ebc-4a2b-b274-1a88bf121edf')\"\n",
              "              title=\"Convert this dataframe to an interactive table.\"\n",
              "              style=\"display:none;\">\n",
              "        \n",
              "  <svg xmlns=\"http://www.w3.org/2000/svg\" height=\"24px\"viewBox=\"0 0 24 24\"\n",
              "       width=\"24px\">\n",
              "    <path d=\"M0 0h24v24H0V0z\" fill=\"none\"/>\n",
              "    <path d=\"M18.56 5.44l.94 2.06.94-2.06 2.06-.94-2.06-.94-.94-2.06-.94 2.06-2.06.94zm-11 1L8.5 8.5l.94-2.06 2.06-.94-2.06-.94L8.5 2.5l-.94 2.06-2.06.94zm10 10l.94 2.06.94-2.06 2.06-.94-2.06-.94-.94-2.06-.94 2.06-2.06.94z\"/><path d=\"M17.41 7.96l-1.37-1.37c-.4-.4-.92-.59-1.43-.59-.52 0-1.04.2-1.43.59L10.3 9.45l-7.72 7.72c-.78.78-.78 2.05 0 2.83L4 21.41c.39.39.9.59 1.41.59.51 0 1.02-.2 1.41-.59l7.78-7.78 2.81-2.81c.8-.78.8-2.07 0-2.86zM5.41 20L4 18.59l7.72-7.72 1.47 1.35L5.41 20z\"/>\n",
              "  </svg>\n",
              "      </button>\n",
              "      \n",
              "  <style>\n",
              "    .colab-df-container {\n",
              "      display:flex;\n",
              "      flex-wrap:wrap;\n",
              "      gap: 12px;\n",
              "    }\n",
              "\n",
              "    .colab-df-convert {\n",
              "      background-color: #E8F0FE;\n",
              "      border: none;\n",
              "      border-radius: 50%;\n",
              "      cursor: pointer;\n",
              "      display: none;\n",
              "      fill: #1967D2;\n",
              "      height: 32px;\n",
              "      padding: 0 0 0 0;\n",
              "      width: 32px;\n",
              "    }\n",
              "\n",
              "    .colab-df-convert:hover {\n",
              "      background-color: #E2EBFA;\n",
              "      box-shadow: 0px 1px 2px rgba(60, 64, 67, 0.3), 0px 1px 3px 1px rgba(60, 64, 67, 0.15);\n",
              "      fill: #174EA6;\n",
              "    }\n",
              "\n",
              "    [theme=dark] .colab-df-convert {\n",
              "      background-color: #3B4455;\n",
              "      fill: #D2E3FC;\n",
              "    }\n",
              "\n",
              "    [theme=dark] .colab-df-convert:hover {\n",
              "      background-color: #434B5C;\n",
              "      box-shadow: 0px 1px 3px 1px rgba(0, 0, 0, 0.15);\n",
              "      filter: drop-shadow(0px 1px 2px rgba(0, 0, 0, 0.3));\n",
              "      fill: #FFFFFF;\n",
              "    }\n",
              "  </style>\n",
              "\n",
              "      <script>\n",
              "        const buttonEl =\n",
              "          document.querySelector('#df-8f552cfe-6ebc-4a2b-b274-1a88bf121edf button.colab-df-convert');\n",
              "        buttonEl.style.display =\n",
              "          google.colab.kernel.accessAllowed ? 'block' : 'none';\n",
              "\n",
              "        async function convertToInteractive(key) {\n",
              "          const element = document.querySelector('#df-8f552cfe-6ebc-4a2b-b274-1a88bf121edf');\n",
              "          const dataTable =\n",
              "            await google.colab.kernel.invokeFunction('convertToInteractive',\n",
              "                                                     [key], {});\n",
              "          if (!dataTable) return;\n",
              "\n",
              "          const docLinkHtml = 'Like what you see? Visit the ' +\n",
              "            '<a target=\"_blank\" href=https://colab.research.google.com/notebooks/data_table.ipynb>data table notebook</a>'\n",
              "            + ' to learn more about interactive tables.';\n",
              "          element.innerHTML = '';\n",
              "          dataTable['output_type'] = 'display_data';\n",
              "          await google.colab.output.renderOutput(dataTable, element);\n",
              "          const docLink = document.createElement('div');\n",
              "          docLink.innerHTML = docLinkHtml;\n",
              "          element.appendChild(docLink);\n",
              "        }\n",
              "      </script>\n",
              "    </div>\n",
              "  </div>\n",
              "  "
            ]
          },
          "metadata": {},
          "execution_count": 17
        }
      ]
    },
    {
      "cell_type": "code",
      "source": [
        "sns.heatmap(df.corr(),cmap='winter')"
      ],
      "metadata": {
        "colab": {
          "base_uri": "https://localhost:8080/",
          "height": 363
        },
        "id": "CVcNwFiAvV1G",
        "outputId": "e5bf0e70-c0a6-4e0a-b7c4-a92994cbe418"
      },
      "execution_count": 18,
      "outputs": [
        {
          "output_type": "execute_result",
          "data": {
            "text/plain": [
              "<matplotlib.axes._subplots.AxesSubplot at 0x7f6f0a87c1d0>"
            ]
          },
          "metadata": {},
          "execution_count": 18
        },
        {
          "output_type": "display_data",
          "data": {
            "text/plain": [
              "<Figure size 432x288 with 2 Axes>"
            ],
            "image/png": "[encoded data removed]"
          },
          "metadata": {
            "needs_background": "light"
          }
        }
      ]
    },
    {
      "cell_type": "code",
      "source": [
        "df1 = df.drop(['property_type' , 'room_type'],axis=1,inplace=True)"
      ],
      "metadata": {
        "id": "8391WpOcyvaa"
      },
      "execution_count": 19,
      "outputs": []
    },
    {
      "cell_type": "code",
      "source": [
        "y=df.iloc[:,2].values\n",
        "y"
      ],
      "metadata": {
        "colab": {
          "base_uri": "https://localhost:8080/"
        },
        "id": "FbVEg1IIvpLP",
        "outputId": "8e25d3e2-3071-4e05-fd5e-25940bf7a76e"
      },
      "execution_count": 20,
      "outputs": [
        {
          "output_type": "execute_result",
          "data": {
            "text/plain": [
              "array([ 56.,  95.,  75., ...,  49.,  60., 104.])"
            ]
          },
          "metadata": {},
          "execution_count": 20
        }
      ]
    },
    {
      "cell_type": "code",
      "source": [
        "X=df.iloc[:,:].values\n",
        "X"
      ],
      "metadata": {
        "colab": {
          "base_uri": "https://localhost:8080/"
        },
        "id": "5-rnBsOav9xq",
        "outputId": "ee8f56b3-58fe-43b1-c042-4f28b963304a"
      },
      "execution_count": 21,
      "outputs": [
        {
          "output_type": "execute_result",
          "data": {
            "text/plain": [
              "array([[4.0334325e+07, 0.0000000e+00, 5.6000000e+01, ..., 1.0000000e+00,\n",
              "        0.0000000e+00, 2.0000000e+00],\n",
              "       [2.2742449e+07, 1.0000000e+00, 9.5000000e+01, ..., 1.0000000e+00,\n",
              "        2.0000000e+00, 2.0000000e+00],\n",
              "       [3.4621717e+07, 0.0000000e+00, 7.5000000e+01, ..., 1.0000000e+00,\n",
              "        1.0000000e+00, 1.0000000e+00],\n",
              "       ...,\n",
              "       [3.9580214e+07, 1.0000000e+00, 4.9000000e+01, ..., 1.5000000e+00,\n",
              "        1.0000000e+00, 6.0000000e+00],\n",
              "       [4.9016014e+07, 0.0000000e+00, 6.0000000e+01, ..., 1.0000000e+00,\n",
              "        1.0000000e+00, 1.0000000e+00],\n",
              "       [3.1438714e+07, 0.0000000e+00, 1.0400000e+02, ..., 1.5000000e+00,\n",
              "        1.0000000e+00, 1.0000000e+00]])"
            ]
          },
          "metadata": {},
          "execution_count": 21
        }
      ]
    },
    {
      "cell_type": "code",
      "source": [
        "from sklearn.model_selection import train_test_split\n",
        "X_train,X_test,y_train,y_test=train_test_split(X,y,test_size=0.01,random_state=90)"
      ],
      "metadata": {
        "id": "0edzGhGUwTKD"
      },
      "execution_count": 22,
      "outputs": []
    },
    {
      "cell_type": "code",
      "source": [
        "from sklearn.linear_model import LinearRegression\n",
        "regressor=LinearRegression()\n",
        "regressor.fit(X_train,y_train)"
      ],
      "metadata": {
        "colab": {
          "base_uri": "https://localhost:8080/"
        },
        "id": "sJ2eoF09wY4Z",
        "outputId": "bd26398d-1a93-4841-8367-5b8b7195859c"
      },
      "execution_count": 23,
      "outputs": [
        {
          "output_type": "execute_result",
          "data": {
            "text/plain": [
              "LinearRegression()"
            ]
          },
          "metadata": {},
          "execution_count": 23
        }
      ]
    },
    {
      "cell_type": "code",
      "source": [
        "from sklearn.metrics import r2_score\n",
        "y_pred=regressor.predict(X_test)\n",
        "r2_score(y_test,y_pred)"
      ],
      "metadata": {
        "colab": {
          "base_uri": "https://localhost:8080/"
        },
        "id": "odJFYSQPw2Yi",
        "outputId": "20a5b5f3-ecdc-49cd-caa1-0d4f9f8e554c"
      },
      "execution_count": 24,
      "outputs": [
        {
          "output_type": "execute_result",
          "data": {
            "text/plain": [
              "1.0"
            ]
          },
          "metadata": {},
          "execution_count": 24
        }
      ]
    },
    {
      "cell_type": "code",
      "source": [
        "import statsmodels.api as sm"
      ],
      "metadata": {
        "colab": {
          "base_uri": "https://localhost:8080/"
        },
        "id": "O8MHA5fWzEGd",
        "outputId": "e60193b0-a3e8-41be-e6e4-53896ac938c8"
      },
      "execution_count": 25,
      "outputs": [
        {
          "output_type": "stream",
          "name": "stderr",
          "text": [
            "/usr/local/lib/python3.7/dist-packages/statsmodels/tools/_testing.py:19: FutureWarning: pandas.util.testing is deprecated. Use the functions in the public API at pandas.testing instead.\n",
            "  import pandas.util.testing as tm\n"
          ]
        }
      ]
    },
    {
      "cell_type": "code",
      "source": [
        "lr = sm.OLS(y,X).fit()"
      ],
      "metadata": {
        "id": "bViTDMEYz3Jc"
      },
      "execution_count": 26,
      "outputs": []
    },
    {
      "cell_type": "code",
      "source": [
        "lr.params"
      ],
      "metadata": {
        "colab": {
          "base_uri": "https://localhost:8080/"
        },
        "id": "kuirfvOY0KLI",
        "outputId": "5f9d1da7-f07e-494b-a3f1-bf263d5de450"
      },
      "execution_count": 27,
      "outputs": [
        {
          "output_type": "execute_result",
          "data": {
            "text/plain": [
              "array([ 3.86611753e-16, -4.89278756e-14,  1.00000000e+00,  9.67108338e-17,\n",
              "        8.84492132e-16, -1.20753017e-17, -2.56739074e-16,  3.99680289e-15,\n",
              "        6.29357677e-15, -2.62984079e-15])"
            ]
          },
          "metadata": {},
          "execution_count": 27
        }
      ]
    },
    {
      "cell_type": "code",
      "source": [
        "lr.summary()"
      ],
      "metadata": {
        "colab": {
          "base_uri": "https://localhost:8080/",
          "height": 657
        },
        "id": "dWkwwgJ50RaM",
        "outputId": "66fe2e4b-6835-46d2-c039-cc05f7e1e496"
      },
      "execution_count": 28,
      "outputs": [
        {
          "output_type": "execute_result",
          "data": {
            "text/plain": [
              "<class 'statsmodels.iolib.summary.Summary'>\n",
              "\"\"\"\n",
              "                                 OLS Regression Results                                \n",
              "=======================================================================================\n",
              "Dep. Variable:                      y   R-squared (uncentered):                   1.000\n",
              "Model:                            OLS   Adj. R-squared (uncentered):              1.000\n",
              "Method:                 Least Squares   F-statistic:                          6.866e+24\n",
              "Date:                Sun, 08 May 2022   Prob (F-statistic):                        0.00\n",
              "Time:                        17:59:59   Log-Likelihood:                      5.3035e+06\n",
              "No. Observations:              319192   AIC:                                 -1.061e+07\n",
              "Df Residuals:                  319182   BIC:                                 -1.061e+07\n",
              "Df Model:                          10                                                  \n",
              "Covariance Type:            nonrobust                                                  \n",
              "==============================================================================\n",
              "                 coef    std err          t      P>|t|      [0.025      0.975]\n",
              "------------------------------------------------------------------------------\n",
              "x1          3.866e-16   1.39e-18    278.420      0.000    3.84e-16    3.89e-16\n",
              "x2         -4.893e-14    5.2e-11     -0.001      0.999   -1.02e-10    1.02e-10\n",
              "x3             1.0000   3.47e-12   2.88e+11      0.000       1.000       1.000\n",
              "x4          9.671e-17   3.47e-12   2.78e-05      1.000   -6.81e-12    6.81e-12\n",
              "x5          8.845e-16   1.22e-12      0.001      0.999   -2.38e-12    2.38e-12\n",
              "x6         -1.208e-17   4.49e-14     -0.000      1.000   -8.79e-14    8.79e-14\n",
              "x7         -2.567e-16   1.38e-11  -1.86e-05      1.000   -2.71e-11    2.71e-11\n",
              "x8          3.997e-15   4.41e-11   9.06e-05      1.000   -8.65e-11    8.65e-11\n",
              "x9          6.294e-15   3.95e-11      0.000      1.000   -7.74e-11    7.74e-11\n",
              "x10         -2.63e-15   2.13e-11     -0.000      1.000   -4.17e-11    4.17e-11\n",
              "==============================================================================\n",
              "Omnibus:                    39788.592   Durbin-Watson:                   0.320\n",
              "Prob(Omnibus):                  0.000   Jarque-Bera (JB):            28925.275\n",
              "Skew:                           0.634   Prob(JB):                         0.00\n",
              "Kurtosis:                       2.247   Cond. No.                     7.76e+07\n",
              "==============================================================================\n",
              "\n",
              "Warnings:\n",
              "[1] Standard Errors assume that the covariance matrix of the errors is correctly specified.\n",
              "[2] The condition number is large, 7.76e+07. This might indicate that there are\n",
              "strong multicollinearity or other numerical problems.\n",
              "\"\"\""
            ],
            "text/html": [
              "<table class=\"simpletable\">\n",
              "<caption>OLS Regression Results</caption>\n",
              "<tr>\n",
              "  <th>Dep. Variable:</th>            <td>y</td>        <th>  R-squared (uncentered):</th>       <td>   1.000</td> \n",
              "</tr>\n",
              "<tr>\n",
              "  <th>Model:</th>                   <td>OLS</td>       <th>  Adj. R-squared (uncentered):</th>  <td>   1.000</td> \n",
              "</tr>\n",
              "<tr>\n",
              "  <th>Method:</th>             <td>Least Squares</td>  <th>  F-statistic:       </th>           <td>6.866e+24</td>\n",
              "</tr>\n",
              "<tr>\n",
              "  <th>Date:</th>             <td>Sun, 08 May 2022</td> <th>  Prob (F-statistic):</th>            <td>  0.00</td>  \n",
              "</tr>\n",
              "<tr>\n",
              "  <th>Time:</th>                 <td>17:59:59</td>     <th>  Log-Likelihood:    </th>          <td>5.3035e+06</td>\n",
              "</tr>\n",
              "<tr>\n",
              "  <th>No. Observations:</th>      <td>319192</td>      <th>  AIC:               </th>          <td>-1.061e+07</td>\n",
              "</tr>\n",
              "<tr>\n",
              "  <th>Df Residuals:</th>          <td>319182</td>      <th>  BIC:               </th>          <td>-1.061e+07</td>\n",
              "</tr>\n",
              "<tr>\n",
              "  <th>Df Model:</th>              <td>    10</td>      <th>                     </th>               <td> </td>    \n",
              "</tr>\n",
              "<tr>\n",
              "  <th>Covariance Type:</th>      <td>nonrobust</td>    <th>                     </th>               <td> </td>    \n",
              "</tr>\n",
              "</table>\n",
              "<table class=\"simpletable\">\n",
              "<tr>\n",
              "   <td></td>      <th>coef</th>     <th>std err</th>      <th>t</th>      <th>P>|t|</th>  <th>[0.025</th>    <th>0.975]</th>  \n",
              "</tr>\n",
              "<tr>\n",
              "  <th>x1</th>  <td> 3.866e-16</td> <td> 1.39e-18</td> <td>  278.420</td> <td> 0.000</td> <td> 3.84e-16</td> <td> 3.89e-16</td>\n",
              "</tr>\n",
              "<tr>\n",
              "  <th>x2</th>  <td>-4.893e-14</td> <td>  5.2e-11</td> <td>   -0.001</td> <td> 0.999</td> <td>-1.02e-10</td> <td> 1.02e-10</td>\n",
              "</tr>\n",
              "<tr>\n",
              "  <th>x3</th>  <td>    1.0000</td> <td> 3.47e-12</td> <td> 2.88e+11</td> <td> 0.000</td> <td>    1.000</td> <td>    1.000</td>\n",
              "</tr>\n",
              "<tr>\n",
              "  <th>x4</th>  <td> 9.671e-17</td> <td> 3.47e-12</td> <td> 2.78e-05</td> <td> 1.000</td> <td>-6.81e-12</td> <td> 6.81e-12</td>\n",
              "</tr>\n",
              "<tr>\n",
              "  <th>x5</th>  <td> 8.845e-16</td> <td> 1.22e-12</td> <td>    0.001</td> <td> 0.999</td> <td>-2.38e-12</td> <td> 2.38e-12</td>\n",
              "</tr>\n",
              "<tr>\n",
              "  <th>x6</th>  <td>-1.208e-17</td> <td> 4.49e-14</td> <td>   -0.000</td> <td> 1.000</td> <td>-8.79e-14</td> <td> 8.79e-14</td>\n",
              "</tr>\n",
              "<tr>\n",
              "  <th>x7</th>  <td>-2.567e-16</td> <td> 1.38e-11</td> <td>-1.86e-05</td> <td> 1.000</td> <td>-2.71e-11</td> <td> 2.71e-11</td>\n",
              "</tr>\n",
              "<tr>\n",
              "  <th>x8</th>  <td> 3.997e-15</td> <td> 4.41e-11</td> <td> 9.06e-05</td> <td> 1.000</td> <td>-8.65e-11</td> <td> 8.65e-11</td>\n",
              "</tr>\n",
              "<tr>\n",
              "  <th>x9</th>  <td> 6.294e-15</td> <td> 3.95e-11</td> <td>    0.000</td> <td> 1.000</td> <td>-7.74e-11</td> <td> 7.74e-11</td>\n",
              "</tr>\n",
              "<tr>\n",
              "  <th>x10</th> <td> -2.63e-15</td> <td> 2.13e-11</td> <td>   -0.000</td> <td> 1.000</td> <td>-4.17e-11</td> <td> 4.17e-11</td>\n",
              "</tr>\n",
              "</table>\n",
              "<table class=\"simpletable\">\n",
              "<tr>\n",
              "  <th>Omnibus:</th>       <td>39788.592</td> <th>  Durbin-Watson:     </th> <td>   0.320</td> \n",
              "</tr>\n",
              "<tr>\n",
              "  <th>Prob(Omnibus):</th>  <td> 0.000</td>   <th>  Jarque-Bera (JB):  </th> <td>28925.275</td>\n",
              "</tr>\n",
              "<tr>\n",
              "  <th>Skew:</th>           <td> 0.634</td>   <th>  Prob(JB):          </th> <td>    0.00</td> \n",
              "</tr>\n",
              "<tr>\n",
              "  <th>Kurtosis:</th>       <td> 2.247</td>   <th>  Cond. No.          </th> <td>7.76e+07</td> \n",
              "</tr>\n",
              "</table><br/><br/>Warnings:<br/>[1] Standard Errors assume that the covariance matrix of the errors is correctly specified.<br/>[2] The condition number is large, 7.76e+07. This might indicate that there are<br/>strong multicollinearity or other numerical problems."
            ]
          },
          "metadata": {},
          "execution_count": 28
        }
      ]
    },
    {
      "cell_type": "code",
      "source": [
        ""
      ],
      "metadata": {
        "id": "Z5aaGhn10U2I"
      },
      "execution_count": null,
      "outputs": []
    }
  ]
}